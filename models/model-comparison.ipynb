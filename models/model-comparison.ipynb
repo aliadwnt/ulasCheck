{
 "cells": [
  {
   "cell_type": "code",
   "execution_count": 41,
   "id": "bf937923",
   "metadata": {},
   "outputs": [],
   "source": [
    "import pandas as pd\n",
    "import re\n",
    "import numpy as np\n",
    "from sklearn.model_selection import train_test_split\n",
    "from sklearn.linear_model import LogisticRegression\n",
    "from sklearn.svm import SVC\n",
    "from sklearn.feature_extraction.text import TfidfVectorizer\n",
    "from sklearn.metrics import classification_report, confusion_matrix, accuracy_score\n",
    "import matplotlib.pyplot as plt\n",
    "import seaborn as sns\n",
    "from collections import defaultdict\n",
    "import nltk\n"
   ]
  },
  {
   "cell_type": "code",
   "execution_count": null,
   "id": "eeb45eeb",
   "metadata": {},
   "outputs": [
    {
     "name": "stderr",
     "output_type": "stream",
     "text": [
      "[nltk_data] Downloading package stopwords to\n",
      "[nltk_data]     C:\\Users\\ASUS\\AppData\\Roaming\\nltk_data...\n",
      "[nltk_data]   Package stopwords is already up-to-date!\n"
     ]
    }
   ],
   "source": [
    "nltk.download('stopwords')\n",
    "from nltk.corpus import stopwords\n",
    "stop_words = stopwords.words('indonesian')"
   ]
  },
  {
   "cell_type": "code",
   "execution_count": 43,
   "id": "9a23a11b",
   "metadata": {},
   "outputs": [],
   "source": [
    "\n",
    "# ====================\n",
    "# 1. Preprocessing\n",
    "# ====================\n",
    "def clean_text(text):\n",
    "    if not isinstance(text, str):\n",
    "        return \"\"\n",
    "    text = text.lower()\n",
    "    text = re.sub(r'[^a-zA-Z\\s]', '', text)\n",
    "    text = re.sub(r'\\s+', ' ', text).strip()\n",
    "    return text"
   ]
  },
  {
   "cell_type": "code",
   "execution_count": 44,
   "id": "4468f54e",
   "metadata": {},
   "outputs": [
    {
     "data": {
      "text/html": [
       "<div>\n",
       "<style scoped>\n",
       "    .dataframe tbody tr th:only-of-type {\n",
       "        vertical-align: middle;\n",
       "    }\n",
       "\n",
       "    .dataframe tbody tr th {\n",
       "        vertical-align: top;\n",
       "    }\n",
       "\n",
       "    .dataframe thead th {\n",
       "        text-align: right;\n",
       "    }\n",
       "</style>\n",
       "<table border=\"1\" class=\"dataframe\">\n",
       "  <thead>\n",
       "    <tr style=\"text-align: right;\">\n",
       "      <th></th>\n",
       "      <th>Username</th>\n",
       "      <th>Produk</th>\n",
       "      <th>Review</th>\n",
       "      <th>Rating</th>\n",
       "      <th>ReviewAt</th>\n",
       "      <th>Label</th>\n",
       "      <th>CleanReview</th>\n",
       "    </tr>\n",
       "  </thead>\n",
       "  <tbody>\n",
       "    <tr>\n",
       "      <th>0</th>\n",
       "      <td>fpradipta</td>\n",
       "      <td>Jam Tangan Digital</td>\n",
       "      <td>Sudah belanja beberapa kali, selalu puas.</td>\n",
       "      <td>4</td>\n",
       "      <td>2024-10-25</td>\n",
       "      <td>1</td>\n",
       "      <td>sudah belanja beberapa kali selalu puas</td>\n",
       "    </tr>\n",
       "    <tr>\n",
       "      <th>1</th>\n",
       "      <td>user_18560</td>\n",
       "      <td>Meja Belajar</td>\n",
       "      <td>Barang datang lebih cepat dari perkiraan.</td>\n",
       "      <td>4</td>\n",
       "      <td>2024-09-17</td>\n",
       "      <td>1</td>\n",
       "      <td>barang datang lebih cepat dari perkiraan</td>\n",
       "    </tr>\n",
       "    <tr>\n",
       "      <th>2</th>\n",
       "      <td>pranawafirmansyah</td>\n",
       "      <td>Tumbler Stainless</td>\n",
       "      <td>Sudah belanja beberapa kali, selalu puas.</td>\n",
       "      <td>5</td>\n",
       "      <td>2025-02-28</td>\n",
       "      <td>1</td>\n",
       "      <td>sudah belanja beberapa kali selalu puas</td>\n",
       "    </tr>\n",
       "    <tr>\n",
       "      <th>3</th>\n",
       "      <td>user_16391</td>\n",
       "      <td>Makeup Set</td>\n",
       "      <td>Kualitas di atas ekspektasi saya!</td>\n",
       "      <td>4</td>\n",
       "      <td>2023-05-14</td>\n",
       "      <td>1</td>\n",
       "      <td>kualitas di atas ekspektasi saya</td>\n",
       "    </tr>\n",
       "    <tr>\n",
       "      <th>4</th>\n",
       "      <td>bakidinnatsir</td>\n",
       "      <td>Celana Jeans</td>\n",
       "      <td>Produk bagus, bahan adem dan sesuai gambar.</td>\n",
       "      <td>4</td>\n",
       "      <td>2024-08-16</td>\n",
       "      <td>1</td>\n",
       "      <td>produk bagus bahan adem dan sesuai gambar</td>\n",
       "    </tr>\n",
       "    <tr>\n",
       "      <th>5</th>\n",
       "      <td>user_5022</td>\n",
       "      <td>Mouse Wireless</td>\n",
       "      <td>Produk sangat bagus dan sesuai deskripsi!</td>\n",
       "      <td>4</td>\n",
       "      <td>2024-01-01</td>\n",
       "      <td>1</td>\n",
       "      <td>produk sangat bagus dan sesuai deskripsi</td>\n",
       "    </tr>\n",
       "    <tr>\n",
       "      <th>6</th>\n",
       "      <td>kayun69</td>\n",
       "      <td>Powerbank 10000mAh</td>\n",
       "      <td>Produk bagus, bahan adem dan sesuai gambar.</td>\n",
       "      <td>5</td>\n",
       "      <td>2024-08-21</td>\n",
       "      <td>1</td>\n",
       "      <td>produk bagus bahan adem dan sesuai gambar</td>\n",
       "    </tr>\n",
       "    <tr>\n",
       "      <th>7</th>\n",
       "      <td>user_13872</td>\n",
       "      <td>Makeup Set</td>\n",
       "      <td>Sudah komplain tapi tidak ada solusi.</td>\n",
       "      <td>2</td>\n",
       "      <td>2024-02-18</td>\n",
       "      <td>0</td>\n",
       "      <td>sudah komplain tapi tidak ada solusi</td>\n",
       "    </tr>\n",
       "    <tr>\n",
       "      <th>8</th>\n",
       "      <td>praboworahayu</td>\n",
       "      <td>Kemeja Polos</td>\n",
       "      <td>Pengiriman cepat, packing rapi. Recommended!</td>\n",
       "      <td>5</td>\n",
       "      <td>2025-04-30</td>\n",
       "      <td>1</td>\n",
       "      <td>pengiriman cepat packing rapi recommended</td>\n",
       "    </tr>\n",
       "    <tr>\n",
       "      <th>9</th>\n",
       "      <td>user_10332</td>\n",
       "      <td>Celana Jeans</td>\n",
       "      <td>Harga terjangkau dengan kualitas oke.</td>\n",
       "      <td>5</td>\n",
       "      <td>2024-08-11</td>\n",
       "      <td>1</td>\n",
       "      <td>harga terjangkau dengan kualitas oke</td>\n",
       "    </tr>\n",
       "  </tbody>\n",
       "</table>\n",
       "</div>"
      ],
      "text/plain": [
       "            Username              Produk  \\\n",
       "0          fpradipta  Jam Tangan Digital   \n",
       "1         user_18560        Meja Belajar   \n",
       "2  pranawafirmansyah   Tumbler Stainless   \n",
       "3         user_16391          Makeup Set   \n",
       "4      bakidinnatsir        Celana Jeans   \n",
       "5          user_5022      Mouse Wireless   \n",
       "6            kayun69  Powerbank 10000mAh   \n",
       "7         user_13872          Makeup Set   \n",
       "8      praboworahayu        Kemeja Polos   \n",
       "9         user_10332        Celana Jeans   \n",
       "\n",
       "                                         Review  Rating    ReviewAt  Label  \\\n",
       "0     Sudah belanja beberapa kali, selalu puas.       4  2024-10-25      1   \n",
       "1     Barang datang lebih cepat dari perkiraan.       4  2024-09-17      1   \n",
       "2     Sudah belanja beberapa kali, selalu puas.       5  2025-02-28      1   \n",
       "3             Kualitas di atas ekspektasi saya!       4  2023-05-14      1   \n",
       "4   Produk bagus, bahan adem dan sesuai gambar.       4  2024-08-16      1   \n",
       "5     Produk sangat bagus dan sesuai deskripsi!       4  2024-01-01      1   \n",
       "6   Produk bagus, bahan adem dan sesuai gambar.       5  2024-08-21      1   \n",
       "7         Sudah komplain tapi tidak ada solusi.       2  2024-02-18      0   \n",
       "8  Pengiriman cepat, packing rapi. Recommended!       5  2025-04-30      1   \n",
       "9         Harga terjangkau dengan kualitas oke.       5  2024-08-11      1   \n",
       "\n",
       "                                 CleanReview  \n",
       "0    sudah belanja beberapa kali selalu puas  \n",
       "1   barang datang lebih cepat dari perkiraan  \n",
       "2    sudah belanja beberapa kali selalu puas  \n",
       "3           kualitas di atas ekspektasi saya  \n",
       "4  produk bagus bahan adem dan sesuai gambar  \n",
       "5   produk sangat bagus dan sesuai deskripsi  \n",
       "6  produk bagus bahan adem dan sesuai gambar  \n",
       "7       sudah komplain tapi tidak ada solusi  \n",
       "8  pengiriman cepat packing rapi recommended  \n",
       "9       harga terjangkau dengan kualitas oke  "
      ]
     },
     "execution_count": 44,
     "metadata": {},
     "output_type": "execute_result"
    }
   ],
   "source": [
    "# ====================\n",
    "# 2. Load Dataset\n",
    "# ====================\n",
    "# df = pd.read_csv(\"../scraping-result/dataset.csv\")\n",
    "df = pd.read_csv(\"../dataset/test-dataset.csv\")\n",
    "df.dropna(subset=[\"Review\", \"Rating\"], inplace=True)\n",
    "df[\"Label\"] = df[\"Rating\"].apply(lambda x: 1 if x >= 4 else 0)\n",
    "df[\"CleanReview\"] = df[\"Review\"].apply(clean_text)\n",
    "\n",
    "df.head(10)"
   ]
  },
  {
   "cell_type": "code",
   "execution_count": 45,
   "id": "e5102dec",
   "metadata": {},
   "outputs": [
    {
     "name": "stderr",
     "output_type": "stream",
     "text": [
      "d:\\ulasCheck\\venv\\lib\\site-packages\\sklearn\\feature_extraction\\text.py:402: UserWarning: Your stop_words may be inconsistent with your preprocessing. Tokenizing the stop words generated tokens ['baiknya', 'berkali', 'kali', 'kurangnya', 'mata', 'olah', 'sekurang', 'setidak', 'tama', 'tidaknya'] not in stop_words.\n",
      "  warnings.warn(\n"
     ]
    }
   ],
   "source": [
    "# ====================\n",
    "# 3. TF-IDF & Train-Test Split\n",
    "# ====================\n",
    "vectorizer = TfidfVectorizer(stop_words=stop_words)\n",
    "X = vectorizer.fit_transform(df[\"CleanReview\"])\n",
    "y = df[\"Label\"]\n",
    "\n",
    "X_train, X_test, y_train, y_test = train_test_split(X, y, test_size=0.2, random_state=42)\n"
   ]
  },
  {
   "cell_type": "code",
   "execution_count": 46,
   "id": "4aba6019",
   "metadata": {},
   "outputs": [
    {
     "name": "stdout",
     "output_type": "stream",
     "text": [
      "\n",
      "=== LOGISTIC REGRESSION REPORT ===\n",
      "              precision    recall  f1-score   support\n",
      "\n",
      "           0       0.94      0.98      0.96       195\n",
      "           1       1.00      0.99      1.00      1753\n",
      "\n",
      "    accuracy                           0.99      1948\n",
      "   macro avg       0.97      0.99      0.98      1948\n",
      "weighted avg       0.99      0.99      0.99      1948\n",
      "\n"
     ]
    }
   ],
   "source": [
    "# ====================\n",
    "# 4. Train Logistic Regression\n",
    "# ====================\n",
    "log_model = LogisticRegression(class_weight='balanced', max_iter=1000)\n",
    "log_model.fit(X_train, y_train)\n",
    "y_pred_log = log_model.predict(X_test)\n",
    "\n",
    "print(\"\\n=== LOGISTIC REGRESSION REPORT ===\")\n",
    "print(classification_report(y_test, y_pred_log))\n",
    "acc_log = accuracy_score(y_test, y_pred_log)\n"
   ]
  },
  {
   "cell_type": "code",
   "execution_count": 47,
   "id": "bfeed00a",
   "metadata": {},
   "outputs": [
    {
     "name": "stdout",
     "output_type": "stream",
     "text": [
      "\n",
      "=== SVM REPORT ===\n",
      "              precision    recall  f1-score   support\n",
      "\n",
      "           0       0.98      0.97      0.98       195\n",
      "           1       1.00      1.00      1.00      1753\n",
      "\n",
      "    accuracy                           1.00      1948\n",
      "   macro avg       0.99      0.99      0.99      1948\n",
      "weighted avg       1.00      1.00      1.00      1948\n",
      "\n"
     ]
    }
   ],
   "source": [
    "\n",
    "# ====================\n",
    "# 5. Train SVM\n",
    "# ====================\n",
    "svm_model = SVC(kernel='linear', class_weight='balanced')\n",
    "svm_model.fit(X_train, y_train)\n",
    "y_pred_svm = svm_model.predict(X_test)\n",
    "\n",
    "print(\"\\n=== SVM REPORT ===\")\n",
    "print(classification_report(y_test, y_pred_svm))\n",
    "acc_svm = accuracy_score(y_test, y_pred_svm)\n"
   ]
  },
  {
   "cell_type": "code",
   "execution_count": 48,
   "id": "85df8585",
   "metadata": {},
   "outputs": [
    {
     "data": {
      "image/png": "[encoded data removed]",
      "text/plain": [
       "<Figure size 500x400 with 2 Axes>"
      ]
     },
     "metadata": {},
     "output_type": "display_data"
    },
    {
     "data": {
      "image/png": "[encoded data removed]",
      "text/plain": [
       "<Figure size 500x400 with 2 Axes>"
      ]
     },
     "metadata": {},
     "output_type": "display_data"
    }
   ],
   "source": [
    "\n",
    "# ====================\n",
    "# 6. Confusion Matrix\n",
    "# ====================\n",
    "def plot_confusion_matrix(y_true, y_pred, model_name):\n",
    "    cm = confusion_matrix(y_true, y_pred)\n",
    "    labels = [\"Negatif (0)\", \"Positif (1)\"]\n",
    "    plt.figure(figsize=(5, 4))\n",
    "    sns.heatmap(cm, annot=True, fmt='d', cmap='Blues', xticklabels=labels, yticklabels=labels)\n",
    "    plt.title(f\"Confusion Matrix - {model_name}\")\n",
    "    plt.xlabel(\"Predicted Label\")\n",
    "    plt.ylabel(\"True Label\")\n",
    "    plt.tight_layout()\n",
    "    plt.show()\n",
    "\n",
    "plot_confusion_matrix(y_test, y_pred_log, \"Logistic Regression\")\n",
    "plot_confusion_matrix(y_test, y_pred_svm, \"SVM\")\n"
   ]
  },
  {
   "cell_type": "code",
   "execution_count": 49,
   "id": "3fb05945",
   "metadata": {},
   "outputs": [
    {
     "name": "stdout",
     "output_type": "stream",
     "text": [
      "\n",
      ">>> Model terbaik: SVM\n"
     ]
    }
   ],
   "source": [
    "# ====================\n",
    "# 7. Pilih Model Terbaik\n",
    "# ====================\n",
    "if acc_log >= acc_svm:\n",
    "    best_model = log_model\n",
    "    best_model_name = \"Logistic Regression\"\n",
    "else:\n",
    "    best_model = svm_model\n",
    "    best_model_name = \"SVM\"\n",
    "\n",
    "print(f\"\\n>>> Model terbaik: {best_model_name}\")\n"
   ]
  },
  {
   "cell_type": "code",
   "execution_count": 50,
   "id": "7515d26e",
   "metadata": {},
   "outputs": [],
   "source": [
    "# ====================\n",
    "# 8. Prediksi Semua Data & Analisis Aspek Positif\n",
    "# ====================\n",
    "df[\"PredictedLabel\"] = best_model.predict(X)\n",
    "\n",
    "def analisis_aspek_positif(df, review_col='CleanReview', label_col='PredictedLabel'):\n",
    "    aspek_keywords = {\n",
    "        \"pengiriman\": [\"pengiriman\", \"kirim\", \"sampai\", \"kurir\", \"antar\", \"cepat\", \"tepat waktu\", \"on time\", \"kilat\"],\n",
    "        \"pelayanan\": [\"pelayanan\", \"respon cepat\", \"layanan\", \"cs\", \"ramah\", \"sopan\", \"penjual baik\", \"admin ramah\"],\n",
    "        \"produk\": [\"produk\", \"barang\", \"kualitas bagus\", \"bagus\", \"asli\", \"ori\", \"original\", \"sesuai deskripsi\"],\n",
    "        \"harga\": [\"harga\", \"murah\", \"diskon\", \"promo\", \"worth it\", \"terjangkau\", \"value\"],\n",
    "        \"packing\": [\"packing\", \"kemasan\", \"rapi\", \"aman\", \"bubble wrap\", \"dibungkus rapi\"]\n",
    "    }\n",
    "\n",
    "    aspek_counter = defaultdict(int)\n",
    "    for _, row in df.iterrows():\n",
    "        if row[label_col] == 1:\n",
    "            review = row[review_col]\n",
    "            for aspek, keywords in aspek_keywords.items():\n",
    "                if any(kw in review for kw in keywords):\n",
    "                    aspek_counter[aspek] += 1\n",
    "    return aspek_counter\n",
    "\n",
    "aspek_result = analisis_aspek_positif(df)\n"
   ]
  },
  {
   "cell_type": "code",
   "execution_count": 51,
   "id": "90f1bab3",
   "metadata": {},
   "outputs": [
    {
     "name": "stdout",
     "output_type": "stream",
     "text": [
      "\n",
      "=== PENILAIAN TOKO ===\n",
      "- Total Ulasan: 9739\n",
      "- Positif: 8643 (88.75%)\n",
      "- Negatif: 1096 (11.25%)\n",
      "- Label Toko: Direkomendasikan\n",
      "- Aspek yang menonjol (positif): 'produk' sebanyak 3266 review (33.54%)\n"
     ]
    }
   ],
   "source": [
    "# ====================\n",
    "# 9. Evaluasi Toko\n",
    "# ====================\n",
    "total_pos = (df[\"PredictedLabel\"] == 1).sum()\n",
    "total_neg = (df[\"PredictedLabel\"] == 0).sum()\n",
    "total_all = total_pos + total_neg\n",
    "persen_pos = round((total_pos / total_all) * 100, 2)\n",
    "toko_label = \"Direkomendasikan\" if persen_pos >= 60 else \"Tidak Direkomendasikan\"\n",
    "aspek_tertinggi = max(aspek_result, key=aspek_result.get)\n",
    "jumlah_tertinggi = aspek_result[aspek_tertinggi]\n",
    "persen_tertinggi = round((jumlah_tertinggi / total_all) * 100, 2)\n",
    "\n",
    "print(\"\\n=== PENILAIAN TOKO ===\")\n",
    "print(f\"- Total Ulasan: {total_all}\")\n",
    "print(f\"- Positif: {total_pos} ({persen_pos}%)\")\n",
    "print(f\"- Negatif: {total_neg} ({round((total_neg / total_all) * 100, 2)}%)\")\n",
    "print(f\"- Label Toko: {toko_label}\")\n",
    "print(f\"- Aspek yang menonjol (positif): '{aspek_tertinggi}' sebanyak {jumlah_tertinggi} review ({persen_tertinggi}%)\")\n"
   ]
  },
  {
   "cell_type": "code",
   "execution_count": 52,
   "id": "3a20c3ff",
   "metadata": {},
   "outputs": [
    {
     "data": {
      "image/png": "[encoded data removed]",
      "text/plain": [
       "<Figure size 1000x600 with 1 Axes>"
      ]
     },
     "metadata": {},
     "output_type": "display_data"
    }
   ],
   "source": [
    "# ====================\n",
    "# 10. Visualisasi Aspek Positif\n",
    "# ====================\n",
    "labels = list(aspek_result.keys())\n",
    "counts = [aspek_result[k] for k in labels]\n",
    "\n",
    "plt.figure(figsize=(10, 6))\n",
    "plt.bar(labels, counts, color='green')\n",
    "plt.ylabel(\"Jumlah Review Positif\")\n",
    "plt.title(f\"Aspek Positif (Model: {best_model_name})\")\n",
    "plt.xticks(rotation=15)\n",
    "plt.tight_layout()\n",
    "plt.show()\n"
   ]
  }
 ],
 "metadata": {
  "kernelspec": {
   "display_name": "venv",
   "language": "python",
   "name": "python3"
  },
  "language_info": {
   "codemirror_mode": {
    "name": "ipython",
    "version": 3
   },
   "file_extension": ".py",
   "mimetype": "text/x-python",
   "name": "python",
   "nbconvert_exporter": "python",
   "pygments_lexer": "ipython3",
   "version": "3.10.6"
  }
 },
 "nbformat": 4,
 "nbformat_minor": 5
}
